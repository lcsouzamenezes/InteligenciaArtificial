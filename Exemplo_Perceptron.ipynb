{
  "nbformat": 4,
  "nbformat_minor": 0,
  "metadata": {
    "colab": {
      "name": "Exemplo_Perceptron.ipynb",
      "provenance": []
    },
    "kernelspec": {
      "name": "python3",
      "display_name": "Python 3"
    },
    "language_info": {
      "name": "python"
    }
  },
  "cells": [
    {
      "cell_type": "code",
      "metadata": {
        "id": "5EQupZiRNpQS"
      },
      "source": [
        "\n",
        "import numpy as np"
      ],
      "execution_count": 2,
      "outputs": []
    },
    {
      "cell_type": "code",
      "metadata": {
        "id": "FHLvJKr0OMK7"
      },
      "source": [
        "class Perceptron():\n",
        "    def __init__(self):\n",
        "        self.syn_weights = np.random.rand(4,1)\n",
        "\n",
        "    def sigmoid(self, x):\n",
        "        return (1 / (1 + np.exp(-x)))\n",
        "\n",
        "    def sigmoid_deriv(self, x):\n",
        "        return np.exp(-x)/((1 + np.exp(-x))**2)\n",
        "\n",
        "    def train(self, inputs, real_outputs, its, lr):\n",
        "\n",
        "        delta_weights = np.zeros((4,7))\n",
        "\n",
        "        for iteration in (range(its)):\n",
        "\n",
        "            # forward pass\n",
        "            z = np.dot(inputs, self.syn_weights)\n",
        "            activation = self.sigmoid(z)\n",
        "\n",
        "            # back pass\n",
        "            for i in range(7):\n",
        "                cost = (activation[i] - real_outputs[i])**2\n",
        "                cost_prime = 2*(activation[i] - real_outputs[i])\n",
        "                for n in range(4):\n",
        "                    delta_weights[n][i] = cost_prime * inputs[i][n] * self.sigmoid_deriv(z[i])\n",
        "\n",
        "            delta_avg = np.array([np.average(delta_weights, axis=1)]).T\n",
        "            self.syn_weights = self.syn_weights - delta_avg*lr\n",
        "\n",
        "    def results(self, inputs):\n",
        "        return self.sigmoid(np.dot(inputs, self.syn_weights))\n"
      ],
      "execution_count": 3,
      "outputs": []
    },
    {
      "cell_type": "code",
      "metadata": {
        "colab": {
          "base_uri": "https://localhost:8080/"
        },
        "id": "4-XT6H9pOTpN",
        "outputId": "ac6af3f8-4c83-49b0-d9f8-44b61e9357fb"
      },
      "source": [
        "if __name__ == \"__main__\":\n",
        "\n",
        "    ts_input = np.array([[0,0,1,0],\n",
        "                         [1,1,1,0],\n",
        "                         [1,0,1,1],\n",
        "                         [0,1,1,1],\n",
        "                         [0,1,0,1],\n",
        "                         [1,1,1,1],\n",
        "                         [0,0,0,0]])\n",
        "\n",
        "    ts_output = np.array([[0,1,1,0,0,1,0]]).T # First Value of Input = output\n",
        "\n",
        "    testing_data = np.array([[0,1,1,0],\n",
        "                             [0,0,0,1],\n",
        "                             [0,1,0,0],\n",
        "                             [1,0,0,1],\n",
        "                             [1,0,0,0],\n",
        "                             [1,1,0,0],\n",
        "                             [1,0,1,0]])\n",
        "\n",
        "    lr = 10 # Taxa de Aprendizagem\n",
        "    steps = 10000\n",
        "    perceptron = Perceptron() # Inicializando um perceptron\n",
        "    perceptron.train(ts_input, ts_output, steps, lr) # Treina o perceptron\n",
        "\n",
        "    results = []\n",
        "    for x in (range(len(testing_data))):\n",
        "        run = testing_data[x]\n",
        "        trial = perceptron.results(run)\n",
        "        results.append(trial.tolist())\n",
        "    print(\"results\")\n",
        "    print(results)\n",
        "    print(np.ravel(np.rint(results))) # Mostra os resultados arendodados\n",
        "    print(perceptron.syn_weights)"
      ],
      "execution_count": 4,
      "outputs": [
        {
          "output_type": "stream",
          "text": [
            "results\n",
            "[[0.000755805026120906], [0.08241636256603112], [0.08133322999732887], [0.9999944621772556], [0.9999995025962876], [0.9999943818052983], [0.9999417821953317]]\n",
            "[0. 0. 0. 1. 1. 1. 1.]\n",
            "[[14.51386334]\n",
            " [-2.42436879]\n",
            " [-4.76260224]\n",
            " [-2.40995974]]\n"
          ],
          "name": "stdout"
        }
      ]
    }
  ]
}